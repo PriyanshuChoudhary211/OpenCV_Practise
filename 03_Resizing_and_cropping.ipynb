{
 "cells": [
  {
   "cell_type": "code",
   "execution_count": 1,
   "id": "deacf932",
   "metadata": {},
   "outputs": [],
   "source": [
    "import cv2 as cv\n",
    "import numpy as np"
   ]
  },
  {
   "cell_type": "code",
   "execution_count": 2,
   "id": "f92a838d",
   "metadata": {},
   "outputs": [],
   "source": [
    "def escape():\n",
    "    while True:\n",
    "        if cv.waitKey(2)==27:\n",
    "            cv.destroyAllWindows()\n",
    "            break;  "
   ]
  },
  {
   "cell_type": "code",
   "execution_count": 3,
   "id": "33cddf2f",
   "metadata": {},
   "outputs": [],
   "source": [
    "img=cv.imread('pic2.jpg')\n",
    "cv.imshow('Original Image',img)\n",
    "escape()"
   ]
  },
  {
   "cell_type": "markdown",
   "id": "ae25ea5b",
   "metadata": {},
   "source": [
    "## Resizing Image"
   ]
  },
  {
   "cell_type": "code",
   "execution_count": 4,
   "id": "820628d8",
   "metadata": {},
   "outputs": [],
   "source": [
    "res=cv.resize(img,(400,400))\n",
    "cv.imshow('Original Image',img)\n",
    "cv.imshow('Resize Image',res)\n",
    "escape()"
   ]
  },
  {
   "cell_type": "markdown",
   "id": "6764e1ab",
   "metadata": {},
   "source": [
    "## Cropping Image"
   ]
  },
  {
   "cell_type": "code",
   "execution_count": 5,
   "id": "f220234c",
   "metadata": {},
   "outputs": [],
   "source": [
    "crop=img[100:400,200:400]\n",
    "cv.imshow('Original Image',img)\n",
    "cv.imshow('Cropped Image',crop)\n",
    "escape()"
   ]
  },
  {
   "cell_type": "code",
   "execution_count": null,
   "id": "1c206767",
   "metadata": {},
   "outputs": [],
   "source": []
  },
  {
   "cell_type": "code",
   "execution_count": null,
   "id": "e315e61b",
   "metadata": {},
   "outputs": [],
   "source": []
  }
 ],
 "metadata": {
  "kernelspec": {
   "display_name": "Python 3 (ipykernel)",
   "language": "python",
   "name": "python3"
  },
  "language_info": {
   "codemirror_mode": {
    "name": "ipython",
    "version": 3
   },
   "file_extension": ".py",
   "mimetype": "text/x-python",
   "name": "python",
   "nbconvert_exporter": "python",
   "pygments_lexer": "ipython3",
   "version": "3.9.7"
  }
 },
 "nbformat": 4,
 "nbformat_minor": 5
}
