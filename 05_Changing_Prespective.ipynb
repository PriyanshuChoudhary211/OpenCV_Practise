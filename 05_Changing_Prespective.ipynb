{
 "cells": [
  {
   "cell_type": "code",
   "execution_count": 8,
   "id": "97605677",
   "metadata": {},
   "outputs": [],
   "source": [
    "import cv2 as cv\n",
    "import numpy as np"
   ]
  },
  {
   "cell_type": "code",
   "execution_count": 9,
   "id": "e55c2a36",
   "metadata": {},
   "outputs": [],
   "source": [
    "def escape():\n",
    "    while True:\n",
    "        if cv.waitKey(2)==27:\n",
    "            cv.destroyAllWindows()\n",
    "            break;  "
   ]
  },
  {
   "cell_type": "code",
   "execution_count": 10,
   "id": "47af89e4",
   "metadata": {},
   "outputs": [],
   "source": [
    "img=cv.imread('cards1.jpg')\n",
    "cv.imshow('Original Image',img)\n",
    "escape()"
   ]
  },
  {
   "cell_type": "code",
   "execution_count": null,
   "id": "e4154448",
   "metadata": {},
   "outputs": [],
   "source": [
    "width,height=250,350\n",
    "pts1=np.float32([ [189,96],[203,123],[137,132],[159,159] ])\n",
    "pts2=np.float32([ [0,0],[width,0],[0,height],[width,height] ])\n",
    "matrix=cv.getPerspectiveTransform(pts1,pts2)\n",
    "imgOutput=cv.warpPerspective(img,matrix,(width,height))\n",
    "\n",
    "cv.imshow('Original Image',img)\n",
    "cv.imshow('Changed Image',imgOutput)\n",
    "escape()"
   ]
  },
  {
   "cell_type": "code",
   "execution_count": null,
   "id": "10be5932",
   "metadata": {},
   "outputs": [],
   "source": []
  }
 ],
 "metadata": {
  "kernelspec": {
   "display_name": "Python 3 (ipykernel)",
   "language": "python",
   "name": "python3"
  },
  "language_info": {
   "codemirror_mode": {
    "name": "ipython",
    "version": 3
   },
   "file_extension": ".py",
   "mimetype": "text/x-python",
   "name": "python",
   "nbconvert_exporter": "python",
   "pygments_lexer": "ipython3",
   "version": "3.9.7"
  }
 },
 "nbformat": 4,
 "nbformat_minor": 5
}
