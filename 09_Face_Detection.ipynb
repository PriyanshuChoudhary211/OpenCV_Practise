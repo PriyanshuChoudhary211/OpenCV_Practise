{
 "cells": [
  {
   "cell_type": "code",
   "execution_count": 4,
   "id": "ecb57299",
   "metadata": {},
   "outputs": [],
   "source": [
    "import cv2 as cv\n",
    "import numpy as np\n",
    "\n",
    "capture=cv.VideoCapture(0)\n",
    "\n",
    "face_detector=cv.CascadeClassifier(\"haarcascade_frontalface_default.xml\")\n",
    "while(1):\n",
    "    isTrue, img = capture.read()\n",
    "    if isTrue==False:\n",
    "        break\n",
    "    imgGray=cv.cvtColor(img,cv.COLOR_BGR2GRAY)\n",
    "    \n",
    "    face=face_detector.detectMultiScale(imgGray,1.1,4)\n",
    "    for(x,y,w,h) in face:\n",
    "        cv.rectangle(img,(x,y),(x+w,y+h),(0,0,255),3)\n",
    "    cv.imshow(\"faces\",img)\n",
    "    \n",
    "    if cv.waitKey(2)==27:\n",
    "        break\n",
    "capture.release()\n",
    "cv.destroyAllWindows()"
   ]
  },
  {
   "cell_type": "code",
   "execution_count": null,
   "id": "5403af97",
   "metadata": {},
   "outputs": [],
   "source": []
  }
 ],
 "metadata": {
  "kernelspec": {
   "display_name": "Python 3 (ipykernel)",
   "language": "python",
   "name": "python3"
  },
  "language_info": {
   "codemirror_mode": {
    "name": "ipython",
    "version": 3
   },
   "file_extension": ".py",
   "mimetype": "text/x-python",
   "name": "python",
   "nbconvert_exporter": "python",
   "pygments_lexer": "ipython3",
   "version": "3.9.7"
  }
 },
 "nbformat": 4,
 "nbformat_minor": 5
}
