{
 "cells": [
  {
   "cell_type": "code",
   "execution_count": 1,
   "id": "464d9f5b",
   "metadata": {},
   "outputs": [],
   "source": [
    "import cv2 as cv\n",
    "import numpy as np"
   ]
  },
  {
   "cell_type": "code",
   "execution_count": 2,
   "id": "a2c87f39",
   "metadata": {},
   "outputs": [],
   "source": [
    "def escape():\n",
    "    while True:\n",
    "        if cv.waitKey(2)==27:\n",
    "            cv.destroyAllWindows()\n",
    "            break;  "
   ]
  },
  {
   "cell_type": "code",
   "execution_count": 28,
   "id": "43b4a697",
   "metadata": {},
   "outputs": [],
   "source": [
    "blank=np.zeros([400,400,3],dtype='uint8')\n",
    "cv.imshow('Blank',blank)\n",
    "cv.imshow('Blank',blank)\n",
    "escape()"
   ]
  },
  {
   "cell_type": "code",
   "execution_count": 25,
   "id": "7d8c334b",
   "metadata": {},
   "outputs": [],
   "source": [
    "blank[0:200,0:200]=0,0,255\n",
    "blank[200:,200:]=0,255,0\n",
    "blank[0:200,200:]=255,255,0\n",
    "blank[200:,0:200]=255,0,255\n",
    "cv.imshow('Blank',blank)\n",
    "escape()"
   ]
  },
  {
   "cell_type": "markdown",
   "id": "e64d49ea",
   "metadata": {},
   "source": [
    "## Creating a Line"
   ]
  },
  {
   "cell_type": "code",
   "execution_count": 31,
   "id": "ecd30df6",
   "metadata": {},
   "outputs": [],
   "source": [
    "# cv.line() #--> image_name, starting point(x,y) , ending point(x,y), color(R,B,G), Thickness\n",
    "line=cv.line(blank,(0,0),(200,200),(0,255,255),3)\n",
    "cv.imshow('Line',line)\n",
    "escape()"
   ]
  },
  {
   "cell_type": "markdown",
   "id": "b50ec06f",
   "metadata": {},
   "source": [
    "## Creating a Rectangle"
   ]
  },
  {
   "cell_type": "code",
   "execution_count": 32,
   "id": "874ad64b",
   "metadata": {},
   "outputs": [],
   "source": [
    "# cv.rectangle() --> Same Parameter as in line\n",
    "rect=cv.rectangle(blank,(0,0),(200,200),(255,0,255),3)\n",
    "line=cv.line(blank,(0,0),(200,200),(0,255,255),3)\n"
   ]
  },
  {
   "cell_type": "code",
   "execution_count": null,
   "id": "cafa2f3f",
   "metadata": {},
   "outputs": [],
   "source": []
  }
 ],
 "metadata": {
  "kernelspec": {
   "display_name": "Python 3 (ipykernel)",
   "language": "python",
   "name": "python3"
  },
  "language_info": {
   "codemirror_mode": {
    "name": "ipython",
    "version": 3
   },
   "file_extension": ".py",
   "mimetype": "text/x-python",
   "name": "python",
   "nbconvert_exporter": "python",
   "pygments_lexer": "ipython3",
   "version": "3.9.7"
  }
 },
 "nbformat": 4,
 "nbformat_minor": 5
}
