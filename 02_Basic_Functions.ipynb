{
 "cells": [
  {
   "cell_type": "code",
   "execution_count": 1,
   "id": "6eb21936",
   "metadata": {},
   "outputs": [],
   "source": [
    "import cv2 as cv\n",
    "import numpy as np"
   ]
  },
  {
   "cell_type": "code",
   "execution_count": 3,
   "id": "2eb2a87a",
   "metadata": {},
   "outputs": [],
   "source": [
    "def escape():\n",
    "    while True:\n",
    "        if cv.waitKey(2)==27:\n",
    "            cv.destroyAllWindows()\n",
    "            break;  "
   ]
  },
  {
   "cell_type": "code",
   "execution_count": 4,
   "id": "3993579d",
   "metadata": {},
   "outputs": [],
   "source": [
    "img=cv.imread('pic2.jpg')\n",
    "cv.imshow('Original Image',img)\n",
    "escape()"
   ]
  },
  {
   "cell_type": "markdown",
   "id": "06c38f20",
   "metadata": {},
   "source": [
    "## Converting image to GrayScale"
   ]
  },
  {
   "cell_type": "code",
   "execution_count": 5,
   "id": "7182645d",
   "metadata": {},
   "outputs": [],
   "source": [
    "grey=cv.cvtColor(img,cv.COLOR_BGR2GRAY)\n",
    "cv.imshow('Grey Scale',grey)\n",
    "escape()"
   ]
  },
  {
   "cell_type": "markdown",
   "id": "f6875e94",
   "metadata": {},
   "source": [
    "## Blur Image"
   ]
  },
  {
   "cell_type": "code",
   "execution_count": 6,
   "id": "258b7170",
   "metadata": {},
   "outputs": [],
   "source": [
    "blur=cv.GaussianBlur(img,(3,3),cv.BORDER_DEFAULT)\n",
    "blur2=cv.GaussianBlur(img,(3,3),0)\n",
    "cv.imshow('Blur Image',blur)\n",
    "cv.imshow('Blur Image2',blur2)\n",
    "escape()"
   ]
  },
  {
   "cell_type": "markdown",
   "id": "4f8a57f2",
   "metadata": {},
   "source": [
    "## Canny Edge Detector"
   ]
  },
  {
   "cell_type": "code",
   "execution_count": 7,
   "id": "7ab86e41",
   "metadata": {},
   "outputs": [],
   "source": [
    "#Canny is used to show the edges of the picture\n",
    "canny=cv.Canny(blur,200,200) # This 200,200 is a Threshold\n",
    "cv.imshow('Original_Image',img)\n",
    "cv.imshow('Canny Image',canny)\n",
    "escape()"
   ]
  },
  {
   "cell_type": "markdown",
   "id": "4bc3b90a",
   "metadata": {},
   "source": [
    "## Dilate Image"
   ]
  },
  {
   "cell_type": "code",
   "execution_count": 17,
   "id": "003375f0",
   "metadata": {},
   "outputs": [],
   "source": [
    "kernel=np.ones((3,3),np.uint8) # Kernel take a max value from frame\n",
    "dil=cv.dilate(canny,kernel,iterations=1)\n",
    "cv.imshow('Canny Image',canny)\n",
    "cv.imshow('Dilated Image',dil)\n",
    "escape()"
   ]
  },
  {
   "cell_type": "code",
   "execution_count": null,
   "id": "4fd5fe01",
   "metadata": {},
   "outputs": [],
   "source": []
  }
 ],
 "metadata": {
  "kernelspec": {
   "display_name": "Python 3 (ipykernel)",
   "language": "python",
   "name": "python3"
  },
  "language_info": {
   "codemirror_mode": {
    "name": "ipython",
    "version": 3
   },
   "file_extension": ".py",
   "mimetype": "text/x-python",
   "name": "python",
   "nbconvert_exporter": "python",
   "pygments_lexer": "ipython3",
   "version": "3.9.7"
  }
 },
 "nbformat": 4,
 "nbformat_minor": 5
}
