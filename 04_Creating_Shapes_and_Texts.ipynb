{
 "cells": [
  {
   "cell_type": "code",
   "execution_count": 1,
   "id": "829cd26a",
   "metadata": {},
   "outputs": [],
   "source": [
    "import cv2 as cv\n",
    "import numpy as np"
   ]
  },
  {
   "cell_type": "code",
   "execution_count": 2,
   "id": "572886ff",
   "metadata": {},
   "outputs": [],
   "source": [
    "def escape():\n",
    "    while True:\n",
    "        if cv.waitKey(2)==27:\n",
    "            cv.destroyAllWindows()\n",
    "            break;  "
   ]
  },
  {
   "cell_type": "code",
   "execution_count": 43,
   "id": "6f6cf19a",
   "metadata": {},
   "outputs": [],
   "source": [
    "blank=np.zeros([400,400,3],dtype='uint8')\n",
    "cv.imshow('Blank',blank)\n",
    "cv.imshow('Blank',blank)\n",
    "escape()"
   ]
  },
  {
   "cell_type": "code",
   "execution_count": 25,
   "id": "cd113fc9",
   "metadata": {},
   "outputs": [],
   "source": [
    "blank[0:200,0:200]=0,0,255\n",
    "blank[200:,200:]=0,255,0\n",
    "blank[0:200,200:]=255,255,0\n",
    "blank[200:,0:200]=255,0,255\n",
    "cv.imshow('Blank',blank)\n",
    "escape()"
   ]
  },
  {
   "cell_type": "markdown",
   "id": "ab7edd40",
   "metadata": {},
   "source": [
    "## Creating a Line"
   ]
  },
  {
   "cell_type": "code",
   "execution_count": 31,
   "id": "1a444075",
   "metadata": {},
   "outputs": [],
   "source": [
    "# cv.line() #--> image_name, starting point(x,y) , ending point(x,y), color(R,B,G), Thickness\n",
    "line=cv.line(blank,(0,0),(200,200),(0,255,255),3)\n",
    "cv.imshow('Line',line)\n",
    "escape()"
   ]
  },
  {
   "cell_type": "markdown",
   "id": "8222910d",
   "metadata": {},
   "source": [
    "## Creating a Rectangle"
   ]
  },
  {
   "cell_type": "code",
   "execution_count": 33,
   "id": "2141e53b",
   "metadata": {},
   "outputs": [],
   "source": [
    "# cv.rectangle() --> Same Parameter as in line\n",
    "rect=cv.rectangle(blank,(0,0),(200,200),(255,0,255),3)\n",
    "cv.imshow('Rectangle',rect)\n",
    "escape()"
   ]
  },
  {
   "cell_type": "markdown",
   "id": "90b59004",
   "metadata": {},
   "source": [
    "## Creating a Circle"
   ]
  },
  {
   "cell_type": "code",
   "execution_count": 37,
   "id": "e2ad07b1",
   "metadata": {},
   "outputs": [],
   "source": [
    "# cv.circle()-->image_name, center_Point(x,y), radius, color(R,B,G), thickness\n",
    "circle=cv.circle(blank,(200,200),200,(0,200,245),5)\n",
    "cv.imshow('Circle',circle)\n",
    "escape()"
   ]
  },
  {
   "cell_type": "markdown",
   "id": "96bf80c5",
   "metadata": {},
   "source": [
    "## Putting a Text"
   ]
  },
  {
   "cell_type": "code",
   "execution_count": 44,
   "id": "edd5a1da",
   "metadata": {},
   "outputs": [],
   "source": [
    "# cv.putText()--> img,text('Hello world'),origin(y,x),Font(cv.FONT_....), Scale(10), color(B,G,R), thickness(value)\n",
    "text=cv.putText(blank,'Made By Priyanshu',(20,200),cv.FONT_HERSHEY_COMPLEX,1,(100,100,100),3)\n",
    "cv.imshow('Text',text)\n",
    "escape()"
   ]
  },
  {
   "cell_type": "code",
   "execution_count": null,
   "id": "1fc7fc54",
   "metadata": {},
   "outputs": [],
   "source": []
  }
 ],
 "metadata": {
  "kernelspec": {
   "display_name": "Python 3 (ipykernel)",
   "language": "python",
   "name": "python3"
  },
  "language_info": {
   "codemirror_mode": {
    "name": "ipython",
    "version": 3
   },
   "file_extension": ".py",
   "mimetype": "text/x-python",
   "name": "python",
   "nbconvert_exporter": "python",
   "pygments_lexer": "ipython3",
   "version": "3.9.7"
  }
 },
 "nbformat": 4,
 "nbformat_minor": 5
}
