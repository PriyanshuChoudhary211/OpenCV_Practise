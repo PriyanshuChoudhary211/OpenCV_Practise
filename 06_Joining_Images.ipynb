{
 "cells": [
  {
   "cell_type": "code",
   "execution_count": 1,
   "id": "e03710a4",
   "metadata": {},
   "outputs": [],
   "source": [
    "import cv2 as cv\n",
    "import numpy as np"
   ]
  },
  {
   "cell_type": "code",
   "execution_count": 2,
   "id": "75870402",
   "metadata": {},
   "outputs": [],
   "source": [
    "def escape():\n",
    "    while True:\n",
    "        if cv.waitKey(2)==27:\n",
    "            cv.destroyAllWindows()\n",
    "            break;  "
   ]
  },
  {
   "cell_type": "code",
   "execution_count": 3,
   "id": "add9cabb",
   "metadata": {},
   "outputs": [],
   "source": [
    "img=cv.imread('pic2.jpg')\n",
    "cv.imshow('Original Image',img)\n",
    "escape()"
   ]
  },
  {
   "cell_type": "markdown",
   "id": "2e396bbd",
   "metadata": {},
   "source": [
    "## Joining image horizontally and vertically"
   ]
  },
  {
   "cell_type": "code",
   "execution_count": 6,
   "id": "5eaadc92",
   "metadata": {},
   "outputs": [],
   "source": [
    "imgHor=np.hstack((img,img))\n",
    "imgVer=np.vstack((img,img))\n",
    "\n",
    "cv.imshow(\"Horizontal\",imgHor)\n",
    "cv.imshow(\"Vertical\",imgVer)\n",
    "escape()"
   ]
  },
  {
   "cell_type": "code",
   "execution_count": 11,
   "id": "d3743379",
   "metadata": {},
   "outputs": [],
   "source": [
    "cv2=cv\n",
    "# This StackImages function is able to join images of any dimension, and can scale upto any value we want.\n",
    "def stackImages(scale,imgArray):\n",
    "    rows = len(imgArray)\n",
    "    cols = len(imgArray[0])\n",
    "    rowsAvailable = isinstance(imgArray[0], list)\n",
    "    width = imgArray[0][0].shape[1]\n",
    "    height = imgArray[0][0].shape[0]\n",
    "    if rowsAvailable:\n",
    "        for x in range ( 0, rows):\n",
    "            for y in range(0, cols):\n",
    "                if imgArray[x][y].shape[:2] == imgArray[0][0].shape [:2]:\n",
    "                    imgArray[x][y] = cv2.resize(imgArray[x][y], (0, 0), None, scale, scale)\n",
    "                else:\n",
    "                    imgArray[x][y] = cv2.resize(imgArray[x][y], (imgArray[0][0].shape[1], imgArray[0][0].shape[0]), None, scale, scale)\n",
    "                if len(imgArray[x][y].shape) == 2: imgArray[x][y]= cv2.cvtColor( imgArray[x][y], cv2.COLOR_GRAY2BGR)\n",
    "        imageBlank = np.zeros((height, width, 3), np.uint8)\n",
    "        hor = [imageBlank]*rows\n",
    "        hor_con = [imageBlank]*rows\n",
    "        for x in range(0, rows):\n",
    "            hor[x] = np.hstack(imgArray[x])\n",
    "        ver = np.vstack(hor)\n",
    "    else:\n",
    "        for x in range(0, rows):\n",
    "            if imgArray[x].shape[:2] == imgArray[0].shape[:2]:\n",
    "                imgArray[x] = cv2.resize(imgArray[x], (0, 0), None, scale, scale)\n",
    "            else:\n",
    "                imgArray[x] = cv2.resize(imgArray[x], (imgArray[0].shape[1], imgArray[0].shape[0]), None,scale, scale)\n",
    "            if len(imgArray[x].shape) == 2: imgArray[x] = cv2.cvtColor(imgArray[x], cv2.COLOR_GRAY2BGR)\n",
    "        hor= np.hstack(imgArray)\n",
    "        ver = hor\n",
    "    return ver\n",
    " \n",
    "# img = cv2.imread('Resources/lena.png')\n",
    "# imgGray = cv2.cvtColor(img,cv2.COLOR_BGR2GRAY)\n"
   ]
  },
  {
   "cell_type": "code",
   "execution_count": 12,
   "id": "63b40957",
   "metadata": {},
   "outputs": [],
   "source": [
    "imgStack = stackImages(0.5,([img,img],[img,img]))\n",
    "cv.imshow(\"StackImages\",imgStack)\n",
    "escape()"
   ]
  },
  {
   "cell_type": "code",
   "execution_count": null,
   "id": "bfe22ba0",
   "metadata": {},
   "outputs": [],
   "source": []
  }
 ],
 "metadata": {
  "kernelspec": {
   "display_name": "Python 3 (ipykernel)",
   "language": "python",
   "name": "python3"
  },
  "language_info": {
   "codemirror_mode": {
    "name": "ipython",
    "version": 3
   },
   "file_extension": ".py",
   "mimetype": "text/x-python",
   "name": "python",
   "nbconvert_exporter": "python",
   "pygments_lexer": "ipython3",
   "version": "3.9.7"
  }
 },
 "nbformat": 4,
 "nbformat_minor": 5
}
