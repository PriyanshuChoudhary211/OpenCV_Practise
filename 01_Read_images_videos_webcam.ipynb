{
 "cells": [
  {
   "cell_type": "code",
   "execution_count": 2,
   "id": "d7ff5ef6",
   "metadata": {},
   "outputs": [],
   "source": [
    "import cv2 as cv"
   ]
  },
  {
   "cell_type": "markdown",
   "id": "6c59b162",
   "metadata": {},
   "source": [
    "## Reading Images"
   ]
  },
  {
   "cell_type": "code",
   "execution_count": 25,
   "id": "6fc1c403",
   "metadata": {},
   "outputs": [],
   "source": [
    "img=cv.imread('pic2.jpg')"
   ]
  },
  {
   "cell_type": "code",
   "execution_count": 26,
   "id": "1a0bb7c8",
   "metadata": {},
   "outputs": [
    {
     "data": {
      "text/plain": [
       "-1"
      ]
     },
     "execution_count": 26,
     "metadata": {},
     "output_type": "execute_result"
    }
   ],
   "source": [
    "cv.imshow('Car',img)\n",
    "cv.waitKey(0)"
   ]
  },
  {
   "cell_type": "markdown",
   "id": "17ac28c3",
   "metadata": {},
   "source": [
    "## Reading Videos"
   ]
  },
  {
   "cell_type": "code",
   "execution_count": 7,
   "id": "cc25d96b",
   "metadata": {},
   "outputs": [],
   "source": [
    "vid=cv.VideoCapture('vid1.mp4')\n",
    "while True:\n",
    "    isTrue,fram=vid.read()\n",
    "    if isTrue == False:\n",
    "        break\n",
    "    cv.imshow('Video',fram)\n",
    "    if cv.waitKey(10) & 0xff==ord('d'):\n",
    "        break\n",
    "vid.release()\n",
    "cv.destroyAllWindows()"
   ]
  },
  {
   "cell_type": "markdown",
   "id": "f2011a44",
   "metadata": {},
   "source": [
    "## Playing Video through Webcam"
   ]
  },
  {
   "cell_type": "code",
   "execution_count": 13,
   "id": "6678109f",
   "metadata": {},
   "outputs": [],
   "source": [
    "vid=cv.VideoCapture(0) # --> To Access Webcam we have to pass a parameter 0, we can pass 1,2,3,4 for different attached cameras\n",
    "vid.set(3,300)\n",
    "vid.set(4,400)\n",
    "vid.set(10,100)\n",
    "\n",
    "\n",
    "while True:\n",
    "    isTrue,fram=vid.read()\n",
    "    if isTrue == False:\n",
    "        break\n",
    "    cv.imshow('Video',fram)\n",
    "    if cv.waitKey(10) & 0xff==ord('d'):\n",
    "        break\n",
    "vid.release()\n",
    "cv.destroyAllWindows()"
   ]
  },
  {
   "cell_type": "code",
   "execution_count": null,
   "id": "6f78481f",
   "metadata": {},
   "outputs": [],
   "source": []
  }
 ],
 "metadata": {
  "kernelspec": {
   "display_name": "Python 3 (ipykernel)",
   "language": "python",
   "name": "python3"
  },
  "language_info": {
   "codemirror_mode": {
    "name": "ipython",
    "version": 3
   },
   "file_extension": ".py",
   "mimetype": "text/x-python",
   "name": "python",
   "nbconvert_exporter": "python",
   "pygments_lexer": "ipython3",
   "version": "3.9.7"
  }
 },
 "nbformat": 4,
 "nbformat_minor": 5
}
